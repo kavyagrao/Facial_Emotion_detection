{
 "cells": [
  {
   "cell_type": "markdown",
   "metadata": {},
   "source": [
    "# Image Data Subset Creation\n",
    "\n",
    "This notebook demonstrates how to create a subset of a large set of images and store them in a numpy array as well. \n",
    "\n",
    "Later, these images can be put through various processing or modelling as per requirement. "
   ]
  },
  {
   "cell_type": "code",
   "execution_count": 1,
   "metadata": {},
   "outputs": [],
   "source": [
    "import numpy as np \n",
    "import pandas as pd \n",
    "\n",
    "import os"
   ]
  },
  {
   "cell_type": "code",
   "execution_count": 8,
   "metadata": {
    "_cell_guid": "b1076dfc-b9ad-4769-8c92-a6c4dae69d19",
    "_uuid": "8f2839f25d086af736a60e9eeb907d3b93b6e0e5",
    "execution": {
     "iopub.execute_input": "2021-06-14T11:34:29.965046Z",
     "iopub.status.busy": "2021-06-14T11:34:29.964688Z",
     "iopub.status.idle": "2021-06-14T11:37:56.633510Z",
     "shell.execute_reply": "2021-06-14T11:37:56.619917Z",
     "shell.execute_reply.started": "2021-06-14T11:34:29.965014Z"
    }
   },
   "outputs": [
    {
     "name": "stdout",
     "output_type": "stream",
     "text": [
      "C:\\Users\\Kavya G Rao\\Downloads\\MTech\\Sem 2\\Deep Learning\\Project\\dl_project\\data\n",
      "C:\\Users\\Kavya G Rao\\Downloads\\MTech\\Sem 2\\Deep Learning\\Project\\dl_project\\data\\Angry\n",
      "C:\\Users\\Kavya G Rao\\Downloads\\MTech\\Sem 2\\Deep Learning\\Project\\dl_project\\data\\disgust\n",
      "C:\\Users\\Kavya G Rao\\Downloads\\MTech\\Sem 2\\Deep Learning\\Project\\dl_project\\data\\fear\n",
      "C:\\Users\\Kavya G Rao\\Downloads\\MTech\\Sem 2\\Deep Learning\\Project\\dl_project\\data\\Happy\n",
      "C:\\Users\\Kavya G Rao\\Downloads\\MTech\\Sem 2\\Deep Learning\\Project\\dl_project\\data\\Neutral\n",
      "C:\\Users\\Kavya G Rao\\Downloads\\MTech\\Sem 2\\Deep Learning\\Project\\dl_project\\data\\sad\n",
      "C:\\Users\\Kavya G Rao\\Downloads\\MTech\\Sem 2\\Deep Learning\\Project\\dl_project\\data\\surprise\n"
     ]
    }
   ],
   "source": [
    "path = \"C:\\\\Users\\Kavya G Rao\\Downloads\\MTech\\Sem 2\\Deep Learning\\Project\\dl_project\\data\"\n",
    "dirs = []\n",
    "for dirname, _, filenames in os.walk(path):\n",
    "    files = []\n",
    "    for filename in filenames:\n",
    "        files.append(filename)\n",
    "    print(dirname)\n",
    "    dirs.append(files)"
   ]
  },
  {
   "cell_type": "code",
   "execution_count": 9,
   "metadata": {},
   "outputs": [
    {
     "data": {
      "text/plain": [
       "7"
      ]
     },
     "execution_count": 9,
     "metadata": {},
     "output_type": "execute_result"
    }
   ],
   "source": [
    "dirs = dirs[1:]\n",
    "len(dirs)"
   ]
  },
  {
   "cell_type": "markdown",
   "metadata": {},
   "source": [
    "# We want to work with around 245 images pulled from all the different types of emotions.\n",
    "So, we start with using a random number generator to select 245 images, 35 of each type."
   ]
  },
  {
   "cell_type": "code",
   "execution_count": 10,
   "metadata": {
    "execution": {
     "iopub.execute_input": "2021-06-14T12:32:09.853770Z",
     "iopub.status.busy": "2021-06-14T12:32:09.853384Z",
     "iopub.status.idle": "2021-06-14T12:32:09.862144Z",
     "shell.execute_reply": "2021-06-14T12:32:09.860969Z",
     "shell.execute_reply.started": "2021-06-14T12:32:09.853737Z"
    }
   },
   "outputs": [
    {
     "data": {
      "text/plain": [
       "(35, 35, 35, 35, 35, 35, 35)"
      ]
     },
     "execution_count": 10,
     "metadata": {},
     "output_type": "execute_result"
    }
   ],
   "source": [
    "# Randomly select 80 image names from each emotion\n",
    "\n",
    "import random\n",
    "angry = random.sample(dirs[0], 35)\n",
    "disgust = random.sample(dirs[1], 35)\n",
    "fear = random.sample(dirs[2], 35)\n",
    "happy = random.sample(dirs[3], 35)\n",
    "neutral = random.sample(dirs[4], 35)\n",
    "sad = random.sample(dirs[5], 35)\n",
    "surprise = random.sample(dirs[6], 35)\n",
    "\n",
    "\n",
    "len(angry), len(disgust), len(fear), len(happy), len(neutral), len(sad), len(surprise)"
   ]
  },
  {
   "cell_type": "code",
   "execution_count": 11,
   "metadata": {
    "scrolled": true
   },
   "outputs": [
    {
     "data": {
      "text/plain": [
       "['Training_26280310.jpg',\n",
       " 'Training_63805323.jpg',\n",
       " 'Training_22064920.jpg',\n",
       " 'Training_37045504.jpg',\n",
       " 'Training_47772398.jpg',\n",
       " 'Training_87319819.jpg',\n",
       " 'Training_60423747.jpg',\n",
       " 'Training_53008635.jpg',\n",
       " 'Training_9734547.jpg',\n",
       " 'Training_67962008.jpg',\n",
       " 'Training_35016417.jpg',\n",
       " 'Training_98194608.jpg',\n",
       " 'Training_96358708.jpg',\n",
       " 'Training_92367989.jpg',\n",
       " 'Training_37056774.jpg',\n",
       " 'Training_58810001.jpg',\n",
       " 'Training_24151037.jpg',\n",
       " 'Training_90294600.jpg',\n",
       " 'Training_99661372.jpg',\n",
       " 'Training_47520543.jpg',\n",
       " 'Training_23918145.jpg',\n",
       " 'Training_66833218.jpg',\n",
       " 'Training_4538450.jpg',\n",
       " 'Training_30856791.jpg',\n",
       " 'Training_50877825.jpg',\n",
       " 'Training_34143465.jpg',\n",
       " 'Training_75259516.jpg',\n",
       " 'Training_99542493.jpg',\n",
       " 'Training_29771167.jpg',\n",
       " 'Training_15777977.jpg',\n",
       " 'Training_62907540.jpg',\n",
       " 'Training_54685419.jpg',\n",
       " 'Training_14520064.jpg',\n",
       " 'Training_69242813.jpg',\n",
       " 'Training_35436736.jpg']"
      ]
     },
     "execution_count": 11,
     "metadata": {},
     "output_type": "execute_result"
    }
   ],
   "source": [
    "angry"
   ]
  },
  {
   "cell_type": "code",
   "execution_count": 12,
   "metadata": {
    "execution": {
     "iopub.execute_input": "2021-06-14T12:38:18.333055Z",
     "iopub.status.busy": "2021-06-14T12:38:18.332651Z",
     "iopub.status.idle": "2021-06-14T12:38:23.891651Z",
     "shell.execute_reply": "2021-06-14T12:38:23.890710Z",
     "shell.execute_reply.started": "2021-06-14T12:38:18.333025Z"
    }
   },
   "outputs": [
    {
     "data": {
      "text/plain": [
       "(245, 48, 48)"
      ]
     },
     "execution_count": 12,
     "metadata": {},
     "output_type": "execute_result"
    }
   ],
   "source": [
    "from PIL import Image\n",
    "x1 = np.array([np.array(Image.open(path+'\\\\Angry\\\\'+fname)) for fname in angry])\n",
    "x2 = np.array([np.array(Image.open(path+'\\\\disgust\\\\'+fname)) for fname in disgust])\n",
    "x3 = np.array([np.array(Image.open(path+'\\\\fear\\\\'+fname)) for fname in fear])\n",
    "x4 = np.array([np.array(Image.open(path+'\\\\Happy\\\\'+fname)) for fname in happy])\n",
    "x5 = np.array([np.array(Image.open(path+'\\\\Neutral\\\\'+fname)) for fname in neutral])\n",
    "x6 = np.array([np.array(Image.open(path+'\\\\sad\\\\'+fname)) for fname in sad])\n",
    "x7 = np.array([np.array(Image.open(path+'\\\\surprise\\\\'+fname)) for fname in surprise])\n",
    "\n",
    "images = np.concatenate((x1,x2,x3,x4,x5,x6,x7))\n",
    "images.shape"
   ]
  },
  {
   "cell_type": "code",
   "execution_count": 17,
   "metadata": {
    "execution": {
     "iopub.execute_input": "2021-06-14T12:38:26.596887Z",
     "iopub.status.busy": "2021-06-14T12:38:26.596379Z",
     "iopub.status.idle": "2021-06-14T12:38:26.894815Z",
     "shell.execute_reply": "2021-06-14T12:38:26.893894Z",
     "shell.execute_reply.started": "2021-06-14T12:38:26.596836Z"
    }
   },
   "outputs": [
    {
     "data": {
      "text/plain": [
       "<matplotlib.image.AxesImage at 0x225e5f38ba8>"
      ]
     },
     "execution_count": 17,
     "metadata": {},
     "output_type": "execute_result"
    },
    {
     "data": {
      "image/png": "[encoded data removed]",
      "text/plain": [
       "<Figure size 432x288 with 1 Axes>"
      ]
     },
     "metadata": {
      "needs_background": "light"
     },
     "output_type": "display_data"
    }
   ],
   "source": [
    "# Randomly display one image selected\n",
    "import matplotlib.pyplot as plt\n",
    "plt.imshow(images[150], cmap='gray')"
   ]
  },
  {
   "cell_type": "code",
   "execution_count": 14,
   "metadata": {
    "execution": {
     "iopub.execute_input": "2021-06-14T12:39:14.333003Z",
     "iopub.status.busy": "2021-06-14T12:39:14.332595Z",
     "iopub.status.idle": "2021-06-14T12:39:14.827694Z",
     "shell.execute_reply": "2021-06-14T12:39:14.826567Z",
     "shell.execute_reply.started": "2021-06-14T12:39:14.332947Z"
    }
   },
   "outputs": [],
   "source": [
    "# This numpy array can be saved as a binary .npy file for easy export and computation later in the CNN\n",
    "np.save('images_245.npy', images)"
   ]
  },
  {
   "cell_type": "code",
   "execution_count": 88,
   "metadata": {
    "execution": {
     "iopub.execute_input": "2021-06-14T12:49:17.923155Z",
     "iopub.status.busy": "2021-06-14T12:49:17.922797Z",
     "iopub.status.idle": "2021-06-14T12:49:17.929675Z",
     "shell.execute_reply": "2021-06-14T12:49:17.928461Z",
     "shell.execute_reply.started": "2021-06-14T12:49:17.923123Z"
    }
   },
   "outputs": [],
   "source": [
    "# Save the filenames that got these 240 images\n",
    "np.savetxt(\"filenames240.txt\", image240_list, delimiter=\" \", newline = \"\\n\", fmt=\"%s\")"
   ]
  },
  {
   "cell_type": "code",
   "execution_count": 18,
   "metadata": {
    "execution": {
     "iopub.execute_input": "2021-06-14T12:53:26.385127Z",
     "iopub.status.busy": "2021-06-14T12:53:26.384617Z",
     "iopub.status.idle": "2021-06-14T12:53:26.402627Z",
     "shell.execute_reply": "2021-06-14T12:53:26.401550Z",
     "shell.execute_reply.started": "2021-06-14T12:53:26.385076Z"
    }
   },
   "outputs": [
    {
     "ename": "NameError",
     "evalue": "name 'train' is not defined",
     "output_type": "error",
     "traceback": [
      "\u001b[1;31m---------------------------------------------------------------------------\u001b[0m",
      "\u001b[1;31mNameError\u001b[0m                                 Traceback (most recent call last)",
      "\u001b[1;32m<ipython-input-18-6dfa97cbc89c>\u001b[0m in \u001b[0;36m<module>\u001b[1;34m\u001b[0m\n\u001b[0;32m      1\u001b[0m \u001b[1;31m#Save the details of all the 240 images selecte for future reference.\u001b[0m\u001b[1;33m\u001b[0m\u001b[1;33m\u001b[0m\u001b[1;33m\u001b[0m\u001b[0m\n\u001b[1;32m----> 2\u001b[1;33m \u001b[0mtrain\u001b[0m\u001b[1;33m[\u001b[0m\u001b[0mtrain\u001b[0m\u001b[1;33m[\u001b[0m\u001b[1;34m'image_filename'\u001b[0m\u001b[1;33m]\u001b[0m\u001b[1;33m.\u001b[0m\u001b[0misin\u001b[0m\u001b[1;33m(\u001b[0m\u001b[0mimage240_list\u001b[0m\u001b[1;33m)\u001b[0m\u001b[1;33m]\u001b[0m\u001b[1;33m.\u001b[0m\u001b[0mto_csv\u001b[0m\u001b[1;33m(\u001b[0m\u001b[1;34m'images240_details.csv'\u001b[0m\u001b[1;33m,\u001b[0m\u001b[0mindex\u001b[0m \u001b[1;33m=\u001b[0m \u001b[1;32mFalse\u001b[0m\u001b[1;33m)\u001b[0m\u001b[1;33m\u001b[0m\u001b[1;33m\u001b[0m\u001b[0m\n\u001b[0m",
      "\u001b[1;31mNameError\u001b[0m: name 'train' is not defined"
     ]
    }
   ],
   "source": [
    "#Save the details of all the 240 images selecte for future reference. \n",
    "train[train['image_filename'].isin(image240_list)].to_csv('images240_details.csv',index = False)"
   ]
  },
  {
   "cell_type": "code",
   "execution_count": 23,
   "metadata": {},
   "outputs": [
    {
     "data": {
      "text/plain": [
       "(245, 48, 48)"
      ]
     },
     "execution_count": 23,
     "metadata": {},
     "output_type": "execute_result"
    }
   ],
   "source": [
    "np.load('images_245.npy').shape"
   ]
  },
  {
   "cell_type": "code",
   "execution_count": null,
   "metadata": {},
   "outputs": [],
   "source": []
  }
 ],
 "metadata": {
  "kernelspec": {
   "display_name": "Python 3",
   "language": "python",
   "name": "python3"
  },
  "language_info": {
   "codemirror_mode": {
    "name": "ipython",
    "version": 3
   },
   "file_extension": ".py",
   "mimetype": "text/x-python",
   "name": "python",
   "nbconvert_exporter": "python",
   "pygments_lexer": "ipython3",
   "version": "3.6.13"
  }
 },
 "nbformat": 4,
 "nbformat_minor": 4
}
